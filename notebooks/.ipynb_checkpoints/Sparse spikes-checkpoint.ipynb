{
 "cells": [
  {
   "cell_type": "code",
   "execution_count": 1,
   "metadata": {},
   "outputs": [],
   "source": [
    "import xarray as xr \n",
    "import pandas as pd \n",
    "import numpy as np\n",
    "import scipy.sparse as ssparse\n",
    "from tqdm import tqdm\n",
    "import sparse"
   ]
  },
  {
   "cell_type": "markdown",
   "metadata": {},
   "source": [
    "Hidden dependencies: \n",
    "    \n",
    " - sparse: https://pypi.org/project/sparse/"
   ]
  },
  {
   "cell_type": "code",
   "execution_count": 2,
   "metadata": {},
   "outputs": [],
   "source": [
    "spike_df_path = '/media/timsit/Partition 1/data/interim/active-m2-good-w-updated-wheel/spike_df.pkl'\n",
    "spike_df = pd.read_pickle(spike_df_path)"
   ]
  },
  {
   "cell_type": "code",
   "execution_count": 3,
   "metadata": {},
   "outputs": [],
   "source": [
    "neuron_df_path = '/media/timsit/Partition 1/data/interim/active-m2-good-w-updated-wheel/neuron_df.pkl'\n",
    "neuron_df = pd.read_pickle(neuron_df_path)"
   ]
  },
  {
   "cell_type": "code",
   "execution_count": 4,
   "metadata": {},
   "outputs": [],
   "source": [
    "query_subject_ref = 3\n",
    "query_exp_ref = 21 \n",
    "target_cell_id = neuron_df.loc[\n",
    "    neuron_df['expRef'] == query_exp_ref\n",
    "]['cellId']\n",
    "\n",
    "subset_spike_df = spike_df.loc[\n",
    "    spike_df['cellId'].isin(target_cell_id)\n",
    "]"
   ]
  },
  {
   "cell_type": "code",
   "execution_count": 5,
   "metadata": {},
   "outputs": [],
   "source": [
    "def bin_spikes_sparse(spike_df, sampling_rate=2000, sparse_type='sparse'):\n",
    "    \n",
    "    min_time = np.min(spike_df['spikeTime'])\n",
    "    max_time = np.max(spike_df['spikeTime'])\n",
    "    num_bins = int(max_time - min_time) * 2000\n",
    "    num_neurons = len(np.unique(spike_df['cellId']))\n",
    "    \n",
    "    sparse_vector_list = list()\n",
    "    for cell_id in tqdm(np.unique(spike_df['cellId'])):\n",
    "        cell_spike_df = spike_df.loc[\n",
    "        spike_df['cellId'] == cell_id]\n",
    "        binned_vector, time_coords = np.histogram(cell_spike_df, num_bins, range=(min_time, max_time))\n",
    "        if sparse_type == 'sparse':\n",
    "            sparse_vector = sparse.COO.from_numpy(binned_vector)\n",
    "        else:\n",
    "            sparse_vector = ssparse.coo_matrix(binned_vector)\n",
    "        \n",
    "        sparse_vector_list.append(sparse_vector)\n",
    "    \n",
    "    if sparse_type == 'sparse':\n",
    "        sparse_matrix = sparse.stack(sparse_vector_list)\n",
    "    else:\n",
    "        sparse_matrix = ssparse.vstack(sparse_vector_list)\n",
    "    \n",
    "    return sparse_matrix, time_coords"
   ]
  },
  {
   "cell_type": "code",
   "execution_count": 6,
   "metadata": {},
   "outputs": [
    {
     "name": "stderr",
     "output_type": "stream",
     "text": [
      "100%|██████████| 415/415 [00:31<00:00, 13.04it/s]\n"
     ]
    }
   ],
   "source": [
    "sparse_matrix, time_coords = bin_spikes_sparse(subset_spike_df)"
   ]
  },
  {
   "cell_type": "code",
   "execution_count": 48,
   "metadata": {},
   "outputs": [
    {
     "data": {
      "text/plain": [
       "(7990000,)"
      ]
     },
     "execution_count": 48,
     "metadata": {},
     "output_type": "execute_result"
    }
   ],
   "source": [
    "np.shape(np.arange(np.shape(sparse_matrix)[1]))"
   ]
  },
  {
   "cell_type": "code",
   "execution_count": 50,
   "metadata": {},
   "outputs": [
    {
     "data": {
      "text/html": [
       "<pre>&lt;xarray.DataArray ()&gt;\n",
       "array(&lt;415x7990000 sparse matrix of type &#x27;&lt;class &#x27;numpy.int64&#x27;&gt;&#x27;\n",
       "\twith 4094208 stored elements in COOrdinate format&gt;, dtype=object)</pre>"
      ],
      "text/plain": [
       "<xarray.DataArray ()>\n",
       "array(<415x7990000 sparse matrix of type '<class 'numpy.int64'>'\n",
       "\twith 4094208 stored elements in COOrdinate format>, dtype=object)"
      ]
     },
     "execution_count": 50,
     "metadata": {},
     "output_type": "execute_result"
    }
   ],
   "source": [
    "spike_xr"
   ]
  },
  {
   "cell_type": "code",
   "execution_count": 7,
   "metadata": {},
   "outputs": [],
   "source": [
    "spike_ds = xr.Dataset(\n",
    "    {'Spike': (['Cell', 'Time'], sparse_matrix)},\n",
    "    coords={'Cell': ('Cell', np.arange(np.shape(sparse_matrix)[0])),\n",
    "           'Bin': ('Time', np.arange(np.shape(sparse_matrix)[1])),\n",
    "           'Time': ('Time', time_coords[:-1])}\n",
    ")"
   ]
  },
  {
   "cell_type": "code",
   "execution_count": 84,
   "metadata": {},
   "outputs": [
    {
     "data": {
      "text/html": [
       "<div>\n",
       "<style scoped>\n",
       "    .dataframe tbody tr th:only-of-type {\n",
       "        vertical-align: middle;\n",
       "    }\n",
       "\n",
       "    .dataframe tbody tr th {\n",
       "        vertical-align: top;\n",
       "    }\n",
       "\n",
       "    .dataframe thead th {\n",
       "        text-align: right;\n",
       "    }\n",
       "</style>\n",
       "<table border=\"1\" class=\"dataframe\">\n",
       "  <thead>\n",
       "    <tr style=\"text-align: right;\">\n",
       "      <th></th>\n",
       "      <th>subjectRef</th>\n",
       "      <th>expRef</th>\n",
       "      <th>penRef</th>\n",
       "      <th>cellLoc</th>\n",
       "      <th>cellArea</th>\n",
       "      <th>cellPos</th>\n",
       "      <th>cluNum</th>\n",
       "      <th>cellId</th>\n",
       "    </tr>\n",
       "  </thead>\n",
       "  <tbody>\n",
       "    <tr>\n",
       "      <td>0</td>\n",
       "      <td>1</td>\n",
       "      <td>1</td>\n",
       "      <td>1</td>\n",
       "      <td>TT</td>\n",
       "      <td>TTv</td>\n",
       "      <td>[598, 589, 277]</td>\n",
       "      <td>1</td>\n",
       "      <td>0</td>\n",
       "    </tr>\n",
       "    <tr>\n",
       "      <td>1</td>\n",
       "      <td>1</td>\n",
       "      <td>1</td>\n",
       "      <td>1</td>\n",
       "      <td>TT</td>\n",
       "      <td>TTv</td>\n",
       "      <td>[600, 583, 276]</td>\n",
       "      <td>2</td>\n",
       "      <td>1</td>\n",
       "    </tr>\n",
       "    <tr>\n",
       "      <td>2</td>\n",
       "      <td>1</td>\n",
       "      <td>1</td>\n",
       "      <td>1</td>\n",
       "      <td>TT</td>\n",
       "      <td>TTv</td>\n",
       "      <td>[600, 585, 276]</td>\n",
       "      <td>3</td>\n",
       "      <td>2</td>\n",
       "    </tr>\n",
       "    <tr>\n",
       "      <td>3</td>\n",
       "      <td>1</td>\n",
       "      <td>1</td>\n",
       "      <td>1</td>\n",
       "      <td>TT</td>\n",
       "      <td>TTv</td>\n",
       "      <td>[599, 587, 277]</td>\n",
       "      <td>4</td>\n",
       "      <td>3</td>\n",
       "    </tr>\n",
       "    <tr>\n",
       "      <td>4</td>\n",
       "      <td>1</td>\n",
       "      <td>1</td>\n",
       "      <td>1</td>\n",
       "      <td>TT</td>\n",
       "      <td>TTv</td>\n",
       "      <td>[601, 582, 276]</td>\n",
       "      <td>5</td>\n",
       "      <td>4</td>\n",
       "    </tr>\n",
       "    <tr>\n",
       "      <td>...</td>\n",
       "      <td>...</td>\n",
       "      <td>...</td>\n",
       "      <td>...</td>\n",
       "      <td>...</td>\n",
       "      <td>...</td>\n",
       "      <td>...</td>\n",
       "      <td>...</td>\n",
       "      <td>...</td>\n",
       "    </tr>\n",
       "    <tr>\n",
       "      <td>14695</td>\n",
       "      <td>6</td>\n",
       "      <td>56</td>\n",
       "      <td>89</td>\n",
       "      <td>ILA</td>\n",
       "      <td>ILA6a</td>\n",
       "      <td>[641, 343, 389]</td>\n",
       "      <td>9</td>\n",
       "      <td>14695</td>\n",
       "    </tr>\n",
       "    <tr>\n",
       "      <td>14696</td>\n",
       "      <td>6</td>\n",
       "      <td>56</td>\n",
       "      <td>89</td>\n",
       "      <td>PL</td>\n",
       "      <td>PL6a</td>\n",
       "      <td>[649, 329, 390]</td>\n",
       "      <td>10</td>\n",
       "      <td>14696</td>\n",
       "    </tr>\n",
       "    <tr>\n",
       "      <td>14697</td>\n",
       "      <td>6</td>\n",
       "      <td>56</td>\n",
       "      <td>89</td>\n",
       "      <td>ILA</td>\n",
       "      <td>ILA6a</td>\n",
       "      <td>[630, 363, 389]</td>\n",
       "      <td>11</td>\n",
       "      <td>14697</td>\n",
       "    </tr>\n",
       "    <tr>\n",
       "      <td>14698</td>\n",
       "      <td>6</td>\n",
       "      <td>56</td>\n",
       "      <td>89</td>\n",
       "      <td>ILA</td>\n",
       "      <td>ILA6a</td>\n",
       "      <td>[632, 361, 389]</td>\n",
       "      <td>12</td>\n",
       "      <td>14698</td>\n",
       "    </tr>\n",
       "    <tr>\n",
       "      <td>14699</td>\n",
       "      <td>6</td>\n",
       "      <td>56</td>\n",
       "      <td>89</td>\n",
       "      <td>ILA</td>\n",
       "      <td>ILA6a</td>\n",
       "      <td>[632, 361, 389]</td>\n",
       "      <td>13</td>\n",
       "      <td>14699</td>\n",
       "    </tr>\n",
       "  </tbody>\n",
       "</table>\n",
       "<p>14700 rows × 8 columns</p>\n",
       "</div>"
      ],
      "text/plain": [
       "       subjectRef  expRef  penRef cellLoc cellArea          cellPos  cluNum  \\\n",
       "0               1       1       1      TT      TTv  [598, 589, 277]       1   \n",
       "1               1       1       1      TT      TTv  [600, 583, 276]       2   \n",
       "2               1       1       1      TT      TTv  [600, 585, 276]       3   \n",
       "3               1       1       1      TT      TTv  [599, 587, 277]       4   \n",
       "4               1       1       1      TT      TTv  [601, 582, 276]       5   \n",
       "...           ...     ...     ...     ...      ...              ...     ...   \n",
       "14695           6      56      89     ILA    ILA6a  [641, 343, 389]       9   \n",
       "14696           6      56      89      PL     PL6a  [649, 329, 390]      10   \n",
       "14697           6      56      89     ILA    ILA6a  [630, 363, 389]      11   \n",
       "14698           6      56      89     ILA    ILA6a  [632, 361, 389]      12   \n",
       "14699           6      56      89     ILA    ILA6a  [632, 361, 389]      13   \n",
       "\n",
       "       cellId  \n",
       "0           0  \n",
       "1           1  \n",
       "2           2  \n",
       "3           3  \n",
       "4           4  \n",
       "...       ...  \n",
       "14695   14695  \n",
       "14696   14696  \n",
       "14697   14697  \n",
       "14698   14698  \n",
       "14699   14699  \n",
       "\n",
       "[14700 rows x 8 columns]"
      ]
     },
     "execution_count": 84,
     "metadata": {},
     "output_type": "execute_result"
    }
   ],
   "source": [
    "neuron_df"
   ]
  },
  {
   "cell_type": "code",
   "execution_count": 8,
   "metadata": {},
   "outputs": [
    {
     "data": {
      "text/html": [
       "<pre>&lt;xarray.Dataset&gt;\n",
       "Dimensions:       (Cell: 415, Time: 7990000)\n",
       "Coordinates:\n",
       "  * Cell          (Cell) int64 0 1 2 3 4 5 6 7 ... 408 409 410 411 412 413 414\n",
       "    Bin           (Time) int64 0 1 2 3 4 ... 7989996 7989997 7989998 7989999\n",
       "  * Time          (Time) float64 -9.999 -9.999 -9.998 ... 3.986e+03 3.986e+03\n",
       "Data variables:\n",
       "    Spike         (Cell, Time) int64 &lt;COO: nnz=4094208, fill_value=0&gt;\n",
       "    CellLocation  (Cell) object &#x27;ORBvl&#x27; &#x27;ORBvl&#x27; &#x27;ORBvl&#x27; ... &#x27;MOs&#x27; &#x27;MOs&#x27; &#x27;PL&#x27;</pre>"
      ],
      "text/plain": [
       "<xarray.Dataset>\n",
       "Dimensions:       (Cell: 415, Time: 7990000)\n",
       "Coordinates:\n",
       "  * Cell          (Cell) int64 0 1 2 3 4 5 6 7 ... 408 409 410 411 412 413 414\n",
       "    Bin           (Time) int64 0 1 2 3 4 ... 7989996 7989997 7989998 7989999\n",
       "  * Time          (Time) float64 -9.999 -9.999 -9.998 ... 3.986e+03 3.986e+03\n",
       "Data variables:\n",
       "    Spike         (Cell, Time) int64 <COO: nnz=4094208, fill_value=0>\n",
       "    CellLocation  (Cell) object 'ORBvl' 'ORBvl' 'ORBvl' ... 'MOs' 'MOs' 'PL'"
      ]
     },
     "execution_count": 8,
     "metadata": {},
     "output_type": "execute_result"
    }
   ],
   "source": [
    "# Add new data variable\n",
    "cell_location = neuron_df.loc[\n",
    "    neuron_df['expRef'] == query_exp_ref\n",
    "]['cellLoc']\n",
    "spike_ds.assign({'CellLocation': ('Cell', cell_location)})"
   ]
  },
  {
   "cell_type": "code",
   "execution_count": 9,
   "metadata": {},
   "outputs": [],
   "source": [
    "spike_ds.attrs['Exp'] = query_exp_ref\n",
    "spike_ds.attrs['Subject'] = query_subject_ref"
   ]
  },
  {
   "cell_type": "code",
   "execution_count": 83,
   "metadata": {},
   "outputs": [
    {
     "data": {
      "text/html": [
       "<pre>&lt;xarray.Dataset&gt;\n",
       "Dimensions:  (Cell: 415, Time: 7990000)\n",
       "Coordinates:\n",
       "  * Cell     (Cell) int64 0 1 2 3 4 5 6 7 8 ... 407 408 409 410 411 412 413 414\n",
       "    Bin      (Time) int64 0 1 2 3 4 ... 7989995 7989996 7989997 7989998 7989999\n",
       "  * Time     (Time) float64 -9.999 -9.999 -9.998 ... 3.986e+03 3.986e+03\n",
       "Data variables:\n",
       "    Spike    (Cell, Time) int64 &lt;COO: shape=(415, 7990000), dtype=int64, nnz=...\n",
       "Attributes:\n",
       "    Exp:      21</pre>"
      ],
      "text/plain": [
       "<xarray.Dataset>\n",
       "Dimensions:  (Cell: 415, Time: 7990000)\n",
       "Coordinates:\n",
       "  * Cell     (Cell) int64 0 1 2 3 4 5 6 7 8 ... 407 408 409 410 411 412 413 414\n",
       "    Bin      (Time) int64 0 1 2 3 4 ... 7989995 7989996 7989997 7989998 7989999\n",
       "  * Time     (Time) float64 -9.999 -9.999 -9.998 ... 3.986e+03 3.986e+03\n",
       "Data variables:\n",
       "    Spike    (Cell, Time) int64 <COO: shape=(415, 7990000), dtype=int64, nnz=...\n",
       "Attributes:\n",
       "    Exp:      21"
      ]
     },
     "execution_count": 83,
     "metadata": {},
     "output_type": "execute_result"
    }
   ],
   "source": [
    "spike_ds"
   ]
  },
  {
   "cell_type": "code",
   "execution_count": 3,
   "metadata": {},
   "outputs": [],
   "source": [
    "min_time = np.min(spike_df['spikeTime'])\n",
    "max_time = np.max(spike_df['spikeTime'])"
   ]
  },
  {
   "cell_type": "code",
   "execution_count": 4,
   "metadata": {},
   "outputs": [],
   "source": [
    "cell_spike_df = spike_df.loc[\n",
    "    spike_df['cellId'] == 0\n",
    "]"
   ]
  },
  {
   "cell_type": "code",
   "execution_count": 5,
   "metadata": {},
   "outputs": [],
   "source": [
    "sampling_rate = 2000\n",
    "num_bins = int(max_time - min_time) * 2000\n",
    "num_neurons = len(np.unique(spike_df['cellId']))"
   ]
  },
  {
   "cell_type": "code",
   "execution_count": 6,
   "metadata": {},
   "outputs": [
    {
     "data": {
      "text/plain": [
       "15102000"
      ]
     },
     "execution_count": 6,
     "metadata": {},
     "output_type": "execute_result"
    }
   ],
   "source": [
    "num_bins"
   ]
  },
  {
   "cell_type": "code",
   "execution_count": 7,
   "metadata": {},
   "outputs": [],
   "source": [
    "binned_vector, _ = np.histogram(cell_spike_df, num_bins, range=(min_time, max_time))"
   ]
  },
  {
   "cell_type": "code",
   "execution_count": 13,
   "metadata": {},
   "outputs": [],
   "source": [
    "sparse_vector = ssparse.csr_matrix(binned_vector)"
   ]
  },
  {
   "cell_type": "code",
   "execution_count": 14,
   "metadata": {},
   "outputs": [
    {
     "data": {
      "text/plain": [
       "<1x15102000 sparse matrix of type '<class 'numpy.int64'>'\n",
       "\twith 10362 stored elements in Compressed Sparse Row format>"
      ]
     },
     "execution_count": 14,
     "metadata": {},
     "output_type": "execute_result"
    }
   ],
   "source": [
    "sparse_vector"
   ]
  },
  {
   "cell_type": "code",
   "execution_count": 20,
   "metadata": {},
   "outputs": [],
   "source": [
    "sparse_matrix = ssparse.vstack(sparse_vector_list)"
   ]
  },
  {
   "cell_type": "code",
   "execution_count": 21,
   "metadata": {},
   "outputs": [
    {
     "data": {
      "text/plain": [
       "(44, 15102000)"
      ]
     },
     "execution_count": 21,
     "metadata": {},
     "output_type": "execute_result"
    }
   ],
   "source": [
    "np.shape(sparse_matrix)"
   ]
  },
  {
   "cell_type": "markdown",
   "metadata": {},
   "source": [
    "## Save the sparse array"
   ]
  },
  {
   "cell_type": "markdown",
   "metadata": {},
   "source": [
    "### Built in sparse method"
   ]
  },
  {
   "cell_type": "code",
   "execution_count": null,
   "metadata": {},
   "outputs": [],
   "source": [
    "save_path = '/home/timsit/xarray-intro/data/sparse_spikes.npz'\n",
    "sparse.save_npz(save_path, sparse_matrix)"
   ]
  },
  {
   "cell_type": "code",
   "execution_count": 15,
   "metadata": {},
   "outputs": [
    {
     "ename": "ModuleNotFoundError",
     "evalue": "No module named 'h5py'",
     "output_type": "error",
     "traceback": [
      "\u001b[0;31m---------------------------------------------------------------------------\u001b[0m",
      "\u001b[0;31mModuleNotFoundError\u001b[0m                       Traceback (most recent call last)",
      "\u001b[0;32m<ipython-input-15-b7f6ce406d64>\u001b[0m in \u001b[0;36m<module>\u001b[0;34m\u001b[0m\n\u001b[0;32m----> 1\u001b[0;31m \u001b[0;32mimport\u001b[0m \u001b[0mh5py\u001b[0m\u001b[0;34m\u001b[0m\u001b[0;34m\u001b[0m\u001b[0m\n\u001b[0m\u001b[1;32m      2\u001b[0m \u001b[0mhf\u001b[0m \u001b[0;34m=\u001b[0m \u001b[0mh5py\u001b[0m\u001b[0;34m.\u001b[0m\u001b[0mFile\u001b[0m\u001b[0;34m(\u001b[0m\u001b[0;34m'sparse_spikes.h5'\u001b[0m\u001b[0;34m,\u001b[0m \u001b[0;34m'w'\u001b[0m\u001b[0;34m)\u001b[0m\u001b[0;34m\u001b[0m\u001b[0;34m\u001b[0m\u001b[0m\n\u001b[1;32m      3\u001b[0m \u001b[0mhf\u001b[0m\u001b[0;34m.\u001b[0m\u001b[0mcreate_dataset\u001b[0m\u001b[0;34m(\u001b[0m\u001b[0;34m'sparse_spikes'\u001b[0m\u001b[0;34m,\u001b[0m \u001b[0mdata\u001b[0m\u001b[0;34m=\u001b[0m\u001b[0msparse_matrix\u001b[0m\u001b[0;34m)\u001b[0m\u001b[0;34m\u001b[0m\u001b[0;34m\u001b[0m\u001b[0m\n\u001b[1;32m      4\u001b[0m \u001b[0mhf\u001b[0m\u001b[0;34m.\u001b[0m\u001b[0mcreate_dataset\u001b[0m\u001b[0;34m(\u001b[0m\u001b[0;34m'time_bins'\u001b[0m\u001b[0;34m,\u001b[0m \u001b[0mdata\u001b[0m\u001b[0;34m=\u001b[0m\u001b[0mtime_coords\u001b[0m\u001b[0;34m)\u001b[0m\u001b[0;34m\u001b[0m\u001b[0;34m\u001b[0m\u001b[0m\n\u001b[1;32m      5\u001b[0m \u001b[0mhf\u001b[0m\u001b[0;34m.\u001b[0m\u001b[0mclose\u001b[0m\u001b[0;34m(\u001b[0m\u001b[0;34m)\u001b[0m\u001b[0;34m\u001b[0m\u001b[0;34m\u001b[0m\u001b[0m\n",
      "\u001b[0;31mModuleNotFoundError\u001b[0m: No module named 'h5py'"
     ]
    }
   ],
   "source": [
    "import h5py\n",
    "hf = h5py.File('sparse_spikes.h5', 'w')\n",
    "dataset = hf.create_dataset('Spike', data=sparse_matrix)\n",
    "dataset.attrs['Dimensions'] = ['Cell', 'Time']\n",
    "dataset.attrs['Time'] = {'Time': time_coords[:-1], 'Bin': np.arange(np.shape(sparse_matrix)[1])}\n",
    "dataset.attrs['Cell'] = {'Cell': np.arange(np.shape(sparse_matrix)[1])}\n",
    "hf.close()"
   ]
  },
  {
   "cell_type": "code",
   "execution_count": null,
   "metadata": {},
   "outputs": [],
   "source": []
  }
 ],
 "metadata": {
  "kernelspec": {
   "display_name": "Python 3",
   "language": "python",
   "name": "python3"
  },
  "language_info": {
   "codemirror_mode": {
    "name": "ipython",
    "version": 3
   },
   "file_extension": ".py",
   "mimetype": "text/x-python",
   "name": "python",
   "nbconvert_exporter": "python",
   "pygments_lexer": "ipython3",
   "version": "3.7.3"
  }
 },
 "nbformat": 4,
 "nbformat_minor": 2
}
